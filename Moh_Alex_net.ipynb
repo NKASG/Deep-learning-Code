{
  "cells": [
    {
      "cell_type": "code",
      "execution_count": null,
      "metadata": {
        "id": "FuDCsdDI722f"
      },
      "outputs": [],
      "source": [
        "import tensorflow as tf\n",
        "from tensorflow import keras\n",
        "\n",
        "import numpy as np\n",
        "import matplotlib.pyplot as plt"
      ]
    },
    {
      "cell_type": "code",
      "execution_count": null,
      "metadata": {
        "id": "r4cy1o7rsiv8"
      },
      "outputs": [],
      "source": [
        "(x_train, y_train), (x_test, y_test) = tf.keras.datasets.cifar10.load_data()"
      ]
    },
    {
      "cell_type": "code",
      "execution_count": null,
      "metadata": {
        "id": "kFNkAY8DsoO-"
      },
      "outputs": [],
      "source": [
        "y_train[:5]"
      ]
    },
    {
      "cell_type": "code",
      "execution_count": null,
      "metadata": {
        "id": "SLEN7hoC-1Pc"
      },
      "outputs": [],
      "source": [
        "x_train.shape"
      ]
    },
    {
      "cell_type": "code",
      "execution_count": null,
      "metadata": {
        "id": "gIssExLws3gr"
      },
      "outputs": [],
      "source": [
        "x_train = x_train / 255"
      ]
    },
    {
      "cell_type": "code",
      "execution_count": null,
      "metadata": {
        "id": "br7nA2ddtKXx"
      },
      "outputs": [],
      "source": [
        "x_test = x_test/255"
      ]
    },
    {
      "cell_type": "code",
      "execution_count": null,
      "metadata": {
        "id": "xDb0dipPGJPd"
      },
      "outputs": [],
      "source": [
        "model = keras.models.Sequential([\n",
        "    keras.layers.Conv2D(filters=96, kernel_size=(3,3), strides=(2,2), activation='relu', input_shape=(32,32,3)),\n",
        "    keras.layers.BatchNormalization(),\n",
        "    keras.layers.MaxPool2D(pool_size=(2,2), strides=(2,2)),\n",
        "\n",
        "    keras.layers.Conv2D(filters=256, kernel_size=(5,5), strides=(1,1), activation='relu', padding=\"same\"),\n",
        "    keras.layers.BatchNormalization(),\n",
        "    keras.layers.MaxPool2D(pool_size=(2,2), strides=(2,2)),\n",
        "\n",
        "    keras.layers.Conv2D(filters=384, kernel_size=(3,3), strides=(1,1), activation='relu', padding=\"same\"),\n",
        "    keras.layers.BatchNormalization(),\n",
        "\n",
        "    keras.layers.Conv2D(filters=384, kernel_size=(3,3), strides=(1,1), activation='relu', padding=\"same\"),\n",
        "    keras.layers.BatchNormalization(),\n",
        "\n",
        "    keras.layers.Conv2D(filters=256, kernel_size=(3,3), strides=(1,1), activation='relu', padding=\"same\"),\n",
        "    keras.layers.BatchNormalization(),\n",
        "    keras.layers.MaxPool2D(pool_size=(2,2), strides=(2,2)),\n",
        "\n",
        "    keras.layers.Flatten(),\n",
        "    keras.layers.Dense(4096, activation='relu'),\n",
        "    keras.layers.Dropout(0.5),\n",
        "    keras.layers.Dense(4096, activation='relu'),\n",
        "    keras.layers.Dropout(0.5),\n",
        "    keras.layers.Dense(10, activation='softmax')\n",
        "])"
      ]
    },
    {
      "cell_type": "code",
      "execution_count": null,
      "metadata": {
        "id": "mfsaKBSIzPz0"
      },
      "outputs": [],
      "source": [
        "model.compile(optimizer='adam',\n",
        "              loss='sparse_categorical_crossentropy',\n",
        "              metrics=['accuracy'])"
      ]
    },
    {
      "cell_type": "code",
      "execution_count": null,
      "metadata": {
        "id": "208IzDsxzaA_"
      },
      "outputs": [],
      "source": [
        "history = model.fit(x_train, y_train,validation_split=0.1, epochs=10 , batch_size=128)"
      ]
    },
    {
      "cell_type": "code",
      "execution_count": null,
      "metadata": {
        "id": "ktCb7-9ffAbr"
      },
      "outputs": [],
      "source": [
        "model.evaluate(x_test,y_test)"
      ]
    },
    {
      "cell_type": "code",
      "execution_count": null,
      "metadata": {
        "id": "neqzMnH0bpHa"
      },
      "outputs": [],
      "source": [
        "model.summary()"
      ]
    },
    {
      "cell_type": "code",
      "execution_count": null,
      "metadata": {
        "id": "-5Og7inufJ9A"
      },
      "outputs": [],
      "source": [
        "history.history.keys()"
      ]
    },
    {
      "cell_type": "code",
      "execution_count": null,
      "metadata": {
        "id": "d2_EC-KZfbEK"
      },
      "outputs": [],
      "source": [
        "plt.plot(history.history['accuracy'])\n",
        "plt.plot(history.history['val_accuracy'])\n",
        "plt.title('Model accuracy')\n",
        "plt.ylabel('accuracy', )\n",
        "plt.xlabel('epoch')\n",
        "plt.legend(['train','val_acc'], loc= 'upper left')\n",
        "plt.show()"
      ]
    },
    {
      "cell_type": "code",
      "execution_count": null,
      "metadata": {
        "id": "6-nfm7Tpff48"
      },
      "outputs": [],
      "source": [
        "plt.plot(history.history['loss'])\n",
        "plt.plot(history.history['val_loss'])\n",
        "plt.title('Model loss')\n",
        "plt.ylabel('loss')\n",
        "plt.xlabel('epoch')\n",
        "plt.legend(['loss','val_loss'], loc= 'upper left')\n",
        "plt.show()"
      ]
    },
    {
      "cell_type": "markdown",
      "metadata": {
        "id": "Mbzd8fApju9x"
      },
      "source": [
        "BUILDING THE LE_NET ARCHITECTURE"
      ]
    },
    {
      "cell_type": "code",
      "execution_count": null,
      "metadata": {
        "id": "2oQbqg3mj2Ht"
      },
      "outputs": [],
      "source": [
        "le_model = keras.models.Sequential([\n",
        "    keras.layers.Conv2D(filters=6, kernel_size=(5,5), strides=(1,1), activation='relu', input_shape=(32,32,3)),\n",
        "    keras.layers.BatchNormalization(),\n",
        "    keras.layers.AvgPool2D((2, 2),strides= 2),\n",
        "    \n",
        "    keras.layers.Conv2D(filters=16, kernel_size=(5,5), strides=1, activation='relu'),\n",
        "    keras.layers.BatchNormalization(),\n",
        "    keras.layers.AvgPool2D((2, 2), strides=2),\n",
        "\n",
        "    keras.layers.Conv2D(filters=120, kernel_size=(5, 5), strides=1, activation='relu'),\n",
        "    keras.layers.BatchNormalization(),\n",
        " \n",
        "     \n",
        "   keras.layers.Flatten(),\n",
        "   \n",
        "   keras.layers.Dense(84, activation='relu') ,\n",
        "   keras.layers.Dense(10, activation='softmax'),\n",
        "])"
      ]
    },
    {
      "cell_type": "code",
      "execution_count": null,
      "metadata": {
        "id": "Qr4RfJLNo-vg"
      },
      "outputs": [],
      "source": [
        "le_model.compile(optimizer='adam',\n",
        "              loss='sparse_categorical_crossentropy',\n",
        "              metrics=['accuracy'])"
      ]
    },
    {
      "cell_type": "code",
      "execution_count": null,
      "metadata": {
        "id": "R4rJzTdXpUUf"
      },
      "outputs": [],
      "source": [
        "le_history = le_model.fit(x_train, y_train,validation_split=0.1, epochs=10 , batch_size=16)"
      ]
    },
    {
      "cell_type": "code",
      "execution_count": null,
      "metadata": {
        "id": "UZ7A2ekypGjX"
      },
      "outputs": [],
      "source": [
        "le_model.evaluate(x_test,y_test)"
      ]
    },
    {
      "cell_type": "code",
      "execution_count": null,
      "metadata": {
        "id": "LW7ywdb6ZyFg"
      },
      "outputs": [],
      "source": [
        "le_model.summary()"
      ]
    },
    {
      "cell_type": "code",
      "execution_count": null,
      "metadata": {
        "id": "PH3rDf3jqhr9"
      },
      "outputs": [],
      "source": [
        "le_history.history.keys()"
      ]
    },
    {
      "cell_type": "code",
      "execution_count": null,
      "metadata": {
        "id": "iXc7Okn9rRAV"
      },
      "outputs": [],
      "source": [
        "plt.plot(le_history.history['accuracy'])\n",
        "plt.plot(le_history.history['val_accuracy'])\n",
        "plt.title('Model accuracy')\n",
        "plt.ylabel('accuracy', )\n",
        "plt.xlabel('epoch')\n",
        "plt.legend(['train','val_acc'], loc= 'upper left')\n",
        "plt.show()"
      ]
    },
    {
      "cell_type": "code",
      "execution_count": null,
      "metadata": {
        "id": "9cf8FflNrYhp"
      },
      "outputs": [],
      "source": [
        "plt.plot(le_history.history['loss'])\n",
        "plt.plot(le_history.history['val_loss'])\n",
        "plt.title('Model loss')\n",
        "plt.ylabel('loss')\n",
        "plt.xlabel('epoch')\n",
        "plt.legend(['loss','val_loss'], loc= 'upper left')\n",
        "plt.show()"
      ]
    },
    {
      "cell_type": "markdown",
      "metadata": {
        "id": "awqqL2-Dr6jN"
      },
      "source": [
        "BUILDING THE RES_NET ARCHITECHTURE"
      ]
    },
    {
      "cell_type": "code",
      "execution_count": null,
      "metadata": {
        "id": "2gVwsw5Ir6Hq"
      },
      "outputs": [],
      "source": [
        "res_model = keras.models.Sequential([\n",
        "    keras.layers.Conv2D(filters=64, kernel_size=(3, 3), activation='relu', input_shape=(32, 32, 3)),\n",
        "    keras.layers.Conv2D(filters=64, kernel_size=(3, 3), activation='relu'),\n",
        "    keras.layers.Conv2D(filters=128, kernel_size=(2, 2), activation='relu'),\n",
        "    keras.layers.Conv2D(filters=128, kernel_size=(2, 2), activation='relu'),\n",
        "    keras.layers.Conv2D(filters=256, kernel_size=(2, 2), activation='relu'),\n",
        "    keras.layers.Conv2D(filters=256, kernel_size=(1, 1), activation='relu'),\n",
        "    keras.layers.Conv2D(filters=512, kernel_size=(1, 1), activation='relu'),\n",
        "    keras.layers.Conv2D(filters=512, kernel_size=(1, 1), activation='relu'),\n",
        "    keras.layers.AvgPool2D(pool_size = 1),\n",
        "    \n",
        "    keras.layers.Flatten(),\n",
        "    \n",
        "    keras.layers.Dense(100, activation='relu') ,\n",
        "    keras.layers.Dense(10, activation='softmax')\n",
        "])"
      ]
    },
    {
      "cell_type": "code",
      "execution_count": null,
      "metadata": {
        "id": "yYIzAnvWwVp3"
      },
      "outputs": [],
      "source": [
        "res_model.compile(optimizer='adam',\n",
        "              loss='sparse_categorical_crossentropy',\n",
        "              metrics=['accuracy'])"
      ]
    },
    {
      "cell_type": "code",
      "execution_count": null,
      "metadata": {
        "id": "JmVJWg32wtR2"
      },
      "outputs": [],
      "source": [
        "res_history = res_model.fit(x_train, y_train,validation_split=0.1, epochs=10 , batch_size=64)"
      ]
    },
    {
      "cell_type": "code",
      "execution_count": null,
      "metadata": {
        "id": "RzUovUHQwxcm"
      },
      "outputs": [],
      "source": [
        "res_model.evaluate(x_test,y_test)"
      ]
    },
    {
      "cell_type": "code",
      "execution_count": null,
      "metadata": {
        "id": "6C30QTQcxDby"
      },
      "outputs": [],
      "source": [
        "res_history.history.keys()"
      ]
    },
    {
      "cell_type": "code",
      "execution_count": null,
      "metadata": {
        "id": "RJ9VX2yVxFjr"
      },
      "outputs": [],
      "source": [
        "plt.plot(res_history.history['accuracy'])\n",
        "plt.plot(res_history.history['val_accuracy'])\n",
        "plt.title('Model accuracy')\n",
        "plt.ylabel('accuracy')\n",
        "plt.xlabel('epoch')\n",
        "plt.legend(['train','val_acc'], loc= 'upper left')\n",
        "plt.show()"
      ]
    },
    {
      "cell_type": "code",
      "execution_count": null,
      "metadata": {
        "id": "yll3cZ1VxO1K"
      },
      "outputs": [],
      "source": [
        "plt.plot(res_history.history['loss'])\n",
        "plt.plot(res_history.history['val_loss'])\n",
        "plt.title('Model loss')\n",
        "plt.ylabel('loss')\n",
        "plt.xlabel('epoch')\n",
        "plt.legend(['loss','val_loss'], loc= 'upper left')\n",
        "plt.show()"
      ]
    }
  ],
  "metadata": {
    "accelerator": "GPU",
    "colab": {
      "collapsed_sections": [],
      "private_outputs": true,
      "provenance": []
    },
    "gpuClass": "standard",
    "kernelspec": {
      "display_name": "Python 3",
      "name": "python3"
    },
    "language_info": {
      "name": "python"
    }
  },
  "nbformat": 4,
  "nbformat_minor": 0
}